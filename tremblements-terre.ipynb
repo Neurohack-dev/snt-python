{
 "cells": [
  {
   "cell_type": "markdown",
   "metadata": {
    "colab_type": "text",
    "id": "j0z_e3ELTzPd"
   },
   "source": [
    "# Affichage sur une carte des données de tremblements de Terre \n",
    "\n",
    "Les données sont obtenues en temps réel sur :\n",
    "\n",
    "*https://earthquake.usgs.gov/earthquakes/feed/v1.0/csv.php*\n",
    "\n",
    "données fournies par l'US Geological Survey...\n"
   ]
  },
  {
   "cell_type": "code",
   "execution_count": null,
   "metadata": {
    "colab": {},
    "colab_type": "code",
    "id": "k3Ey7fiFkx3L"
   },
   "outputs": [],
   "source": [
    "# test\n",
    "print(bonjour)"
   ]
  },
  {
   "cell_type": "markdown",
   "metadata": {
    "colab_type": "text",
    "id": "H4rFRt2_VCMN"
   },
   "source": [
    "**1. On commence par importer les bibliothéques**\n",
    "* folium permet de générer les cartes et de placer les marqueurs\n",
    "* csv permet de traiter les données obtenues dans un fichier csv\n",
    "* request permet de télécharger les données depuis le site de l'USGS\n"
   ]
  },
  {
   "cell_type": "code",
   "execution_count": null,
   "metadata": {
    "colab": {},
    "colab_type": "code",
    "id": "wIZGxDAITZYh"
   },
   "outputs": [],
   "source": [
    "import folium\n",
    "import csv\n",
    "import requests"
   ]
  },
  {
   "cell_type": "markdown",
   "metadata": {
    "colab_type": "text",
    "id": "MUx5o9y2Wsm_"
   },
   "source": [
    "**2. On importe les données depuis le site USGS**\n",
    "\n",
    "Le site mets à disposition plusieur type de fichiers -> dernière heure, dernier jour, derniers 7 jours etc ....\n",
    "voir (https://earthquake.usgs.gov/earthquakes/feed/v1.0/csv.php)\n",
    "\n",
    "Le choix est fait ici de visualiser les séismes d'une magnitude supérieure à 2,5, le mois dernier.\n",
    "\n",
    "Le fichier CSV est stockée dans la variable tremblement_csv sous forme de liste\n"
   ]
  },
  {
   "cell_type": "code",
   "execution_count": null,
   "metadata": {
    "colab": {},
    "colab_type": "code",
    "id": "y_owoFC5WXL6"
   },
   "outputs": [],
   "source": [
    "# Importation des données au format CSV\n",
    "url=\"http://earthquake.usgs.gov/earthquakes/feed/v1.0/summary/4.5_month.csv\"\n",
    "csvfile = requests.get(url)\n",
    "csvfile = csvfile.content.decode('utf-8')\n",
    "print(\"coucou\")"
   ]
  },
  {
   "cell_type": "markdown",
   "metadata": {
    "colab_type": "text",
    "id": "RXJ_et5CZScU"
   },
   "source": [
    "**3. Création de la carte vide**\n",
    "\n",
    "La bibiothèque folium permet de générer une carte vide.... pour l'instant"
   ]
  },
  {
   "cell_type": "code",
   "execution_count": null,
   "metadata": {
    "colab": {},
    "colab_type": "code",
    "id": "lMfKHdVjVyQR"
   },
   "outputs": [],
   "source": [
    "carte_tremblements = folium.Map(location=[0,0], zoom_start=3)\n",
    "display(carte_tremblements)"
   ]
  },
  {
   "cell_type": "markdown",
   "metadata": {
    "colab_type": "text",
    "id": "UBfa6wwuZpF-"
   },
   "source": [
    "**4. Lecture du fichier csv et positionnement des marqueurs.**\n",
    "\n",
    "Structure du fichier csv 0 : date , 1: latitude , 2 : Longitude , 3 : profondeur, 4 : Magnitude\n"
   ]
  },
  {
   "cell_type": "code",
   "execution_count": null,
   "metadata": {
    "colab": {},
    "colab_type": "code",
    "id": "wiYnb3yBV35p"
   },
   "outputs": [],
   "source": [
    "carte_tremblements = folium.Map(location=[0,0], zoom_start=3)\n",
    "tremblements_csv = csv.reader(csvfile.splitlines(), delimiter=',')\n",
    "# pour éviter la ligne d'en têtes.\n",
    "header = next(tremblements_csv)\n",
    "# On lit maintenant chaque ligne  du fichier csv téléchargé\n",
    "for ligne in tremblements_csv :\n",
    "  latitude = float(ligne[1])\n",
    "  longitude = float(ligne[2])\n",
    "  folium.Marker([latitude,longitude]).add_to(carte_tremblements)\n",
    "  \n",
    "display(carte_tremblements)"
   ]
  },
  {
   "cell_type": "markdown",
   "metadata": {
    "colab_type": "text",
    "id": "rPe-hveSaxy_"
   },
   "source": [
    "**5. On affine en affichant la magnitude du seismes**\n",
    "\n",
    "On ajoute donc un pop-up qui affiche la magnitude, tout simplement"
   ]
  },
  {
   "cell_type": "code",
   "execution_count": null,
   "metadata": {
    "colab": {},
    "colab_type": "code",
    "id": "8Q-G3cUYb8aC"
   },
   "outputs": [],
   "source": [
    "carte_tremblements = folium.Map(location=[0,0], zoom_start=3)\n",
    "tremblements_csv = csv.reader(csvfile.splitlines(), delimiter=',')\n",
    "# pour éviter la ligne d'en têtes.\n",
    "header = next(tremblements_csv)\n",
    "# On lit maintenant chaque ligne  du fichier csv téléchargé\n",
    "for ligne in tremblements_csv :\n",
    "  latitude = float(ligne[1])\n",
    "  longitude = float(ligne[2])\n",
    "  magnitude = \"Magnitude : \"+ str(ligne[4])\n",
    "  folium.Marker([latitude,longitude],popup = magnitude).add_to(carte_tremblements)\n",
    "  \n",
    "display(carte_tremblements)"
   ]
  },
  {
   "cell_type": "markdown",
   "metadata": {
    "colab_type": "text",
    "id": "9xkabYOajoX7"
   },
   "source": [
    "Prolongement possibles : \n",
    "\n",
    "*  on peut demander aux élèves d'afficher avec un marker rouge les seismes dont la magnitude est supérieure à 6.\n",
    "*  on peut leur demander d'afficher la date dans le popup...\n",
    " * et plein d'autres trucs...\n",
    "\n",
    "\n",
    "\n"
   ]
  },
  {
   "cell_type": "code",
   "execution_count": null,
   "metadata": {
    "colab": {},
    "colab_type": "code",
    "id": "a4aaDuZvkZGK"
   },
   "outputs": [],
   "source": [
    "carte_tremblements = folium.Map(location=[0,0], zoom_start=3)\n",
    "tremblements_csv = csv.reader(csvfile.splitlines(), delimiter=',')\n",
    "# pour éviter la ligne d'en têtes.\n",
    "header = next(tremblements_csv)\n",
    "# On lit maintenant chaque ligne  du fichier csv téléchargé\n",
    "for ligne in tremblements_csv :\n",
    "  latitude = float(ligne[1])\n",
    "  longitude = float(ligne[2])\n",
    "  magnitude = \"Magnitude : \"+ str(ligne[4])\n",
    "  if float(ligne[4]) > 5 :\n",
    "    folium.Marker([latitude,longitude],popup = magnitude,icon = folium.Icon(color='red')).add_to(carte_tremblements)\n",
    "  elif float(ligne[4]) > 4.7 :\n",
    "    folium.Marker([latitude,longitude],popup = magnitude,icon = folium.Icon(color='blue')).add_to(carte_tremblements)\n",
    "  else :\n",
    "    folium.Marker([latitude,longitude],popup = magnitude,icon = folium.Icon(color='green')).add_to(carte_tremblements)\n",
    "    \n",
    "  \n",
    "display(carte_tremblements)"
   ]
  }
 ],
 "metadata": {
  "colab": {
   "collapsed_sections": [],
   "name": "tremblements.ipynb",
   "provenance": []
  },
  "kernelspec": {
   "display_name": "Python 3",
   "language": "python",
   "name": "python3"
  },
  "language_info": {
   "codemirror_mode": {
    "name": "ipython",
    "version": 3
   },
   "file_extension": ".py",
   "mimetype": "text/x-python",
   "name": "python",
   "nbconvert_exporter": "python",
   "pygments_lexer": "ipython3",
   "version": "3.7.6"
  }
 },
 "nbformat": 4,
 "nbformat_minor": 4
}
